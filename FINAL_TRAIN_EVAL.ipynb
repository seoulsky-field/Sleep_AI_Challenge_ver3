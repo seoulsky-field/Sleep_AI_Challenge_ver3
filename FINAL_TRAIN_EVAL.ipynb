{
 "cells": [
  {
   "cell_type": "code",
   "execution_count": null,
   "id": "8a5ecfeb",
   "metadata": {},
   "outputs": [],
   "source": [
    "!pip install -r requirements.txt"
   ]
  },
  {
   "cell_type": "code",
   "execution_count": 1,
   "id": "11ad21fb-b279-4c84-b05d-af1d2c0431ff",
   "metadata": {},
   "outputs": [],
   "source": [
    "import os\n",
    "from glob import glob\n",
    "import numpy as np\n",
    "from tqdm import tqdm\n",
    "import random\n",
    "import pandas as pd\n",
    "\n",
    "#torch\n",
    "import torch\n",
    "import torch.nn as nn\n",
    "import torch.nn.functional as F\n",
    "from torch.autograd import Variable\n",
    "from torch.nn.parameter import Parameter\n",
    "from torch.utils.data import Dataset,DataLoader\n",
    "\n",
    "#mne\n",
    "from mne import Epochs, pick_types, find_events\n",
    "from mne.io import concatenate_raws, read_raw_edf\n",
    "\n",
    "#signal preprocess\n",
    "import scipy.signal as ssig    \n",
    "\n",
    "from sklearn.metrics import f1_score, classification_report\n",
    "from sklearn.model_selection import train_test_split\n",
    "\n",
    "device = torch.device(\"cuda\" if torch.cuda.is_available() else \"cpu\")\n",
    "seed = 42"
   ]
  },
  {
   "cell_type": "code",
   "execution_count": 2,
   "id": "7f074c89-198e-4f0a-b0db-78c15ec18717",
   "metadata": {},
   "outputs": [],
   "source": [
    "# seed 고정 함수 및 seed 고정\n",
    "def seed_everything(seed: int = 42):\n",
    "    random.seed(seed)\n",
    "    np.random.seed(seed)\n",
    "    os.environ[\"PYTHONHASHSEED\"] = str(seed)\n",
    "    torch.manual_seed(seed)\n",
    "    torch.cuda.manual_seed(seed)\n",
    "    torch.backends.cudnn.deterministic = True\n",
    "    torch.backends.cudnn.benchmark = True\n",
    "\n",
    "seed_everything(seed)"
   ]
  },
  {
   "cell_type": "code",
   "execution_count": 3,
   "id": "b98b196e-0042-4141-acd7-cb473919547a",
   "metadata": {},
   "outputs": [],
   "source": [
    "# train_path = '/home/maic-player/dataset/1_Train+Val'\n",
    "# test_path = '/home/maic-player/dataset/2_Test'\n",
    "train_path = '/home/maic-player/FINAL_SUBMISSION/npy_60000/train'\n",
    "valid_path = '/home/maic-player/FINAL_SUBMISSION/npy_60000/valid'\n",
    "test_path = '/home/maic-player/FINAL_SUBMISSION/npy_60000/test'\n",
    "save_path = '/home/maic-player/FINAL_SUBMISSION/results'\n",
    "save_name = 'deepsleepnet_60000_focal.pth'\n",
    "csv_name = 'deepsleepnet_60000_focal.csv'"
   ]
  },
  {
   "cell_type": "code",
   "execution_count": 4,
   "id": "4a017eef",
   "metadata": {},
   "outputs": [],
   "source": [
    "train_path_list = glob(os.path.join(train_path, '*.npy'))\n",
    "valid_path_list = glob(os.path.join(valid_path, '*.npy'))\n",
    "test_path_list = glob(os.path.join(test_path, '*.npy'))"
   ]
  },
  {
   "cell_type": "code",
   "execution_count": 5,
   "id": "cdf095f5-0834-4344-9434-ef91001595f2",
   "metadata": {},
   "outputs": [],
   "source": [
    "class EDFDataLoader(Dataset):\n",
    "    def __init__(self, mode):\n",
    "        self.mode = mode\n",
    "\n",
    "        if self.mode == 'train':\n",
    "            self.dataset = train_path_list\n",
    "            \n",
    "        elif self.mode == 'valid':\n",
    "            self.dataset = valid_path_list\n",
    "                \n",
    "        elif self.mode == 'test':\n",
    "            self.dataset = test_path_list\n",
    "        \n",
    "    def __len__(self):\n",
    "        return len(self.dataset)\n",
    "\n",
    "    def __getitem__(self, idx):\n",
    "        data_np = np.load(self.dataset[idx])\n",
    "        if 'Normal' in self.dataset[idx]:\n",
    "            label = 0\n",
    "        else:\n",
    "            label = 1\n",
    "\n",
    "        if (self.mode == 'train') or (self.mode == 'valid'):\n",
    "            return data_np, torch.tensor(label)\n",
    "        elif self.mode == 'test':\n",
    "            return data_np, self.dataset[idx]"
   ]
  },
  {
   "cell_type": "code",
   "execution_count": 6,
   "id": "927b7fb2-2858-4d3f-a3dd-80b7df51ce0a",
   "metadata": {},
   "outputs": [],
   "source": [
    "train_dataset = EDFDataLoader('train')\n",
    "valid_dataset = EDFDataLoader('valid')\n",
    "\n",
    "train_loader = DataLoader(dataset=train_dataset, shuffle=True, batch_size=16)\n",
    "valid_loader = DataLoader(dataset=valid_dataset, shuffle=False, batch_size=32)"
   ]
  },
  {
   "cell_type": "code",
   "execution_count": 7,
   "id": "4a8b62b4-e258-481d-9aa2-1492d21da32f",
   "metadata": {},
   "outputs": [],
   "source": [
    "class BiLSTM(nn.Module):\n",
    "    def __init__(self, input_size, hidden_size, num_layers):\n",
    "        super(BiLSTM, self).__init__()\n",
    "        self.hidden_size = hidden_size\n",
    "        self.num_layers = num_layers\n",
    "        self.lstm = nn.LSTM(input_size, hidden_size, num_layers, batch_first=True, dropout=0.5, bidirectional=True)\n",
    "\n",
    "    def forward(self, x):\n",
    "        # set initial hidden and cell states\n",
    "        h0 = torch.zeros(self.num_layers*2, x.size(0), self.hidden_size).cuda() #RuntimeError: Input and hidden tensors are not at the same device\n",
    "        c0 = torch.zeros(self.num_layers*2, x.size(0), self.hidden_size).cuda()\n",
    "\n",
    "        # forward propagate LSTM\n",
    "        out, _ = self.lstm(x, (h0, c0))\n",
    "        return out\n",
    "\n",
    "class DeepSleepNet(nn.Module):\n",
    "\n",
    "    def __init__(self, ch=24):\n",
    "        super(DeepSleepNet, self).__init__()\n",
    "        self.features_s = nn.Sequential(\n",
    "            nn.Conv1d(ch, 64, 50, 6),\n",
    "            nn.BatchNorm1d(64),\n",
    "            nn.ReLU(inplace=True),\n",
    "            nn.MaxPool1d(kernel_size=8, stride=8),\n",
    "            nn.Dropout(),\n",
    "            nn.Conv1d(64, 128, 6),\n",
    "            nn.BatchNorm1d(128),\n",
    "            nn.Conv1d(128, 128, 6),\n",
    "            nn.BatchNorm1d(128),\n",
    "            nn.Conv1d(128, 128, 6),\n",
    "            nn.BatchNorm1d(128),\n",
    "            nn.ReLU(inplace=True),\n",
    "            nn.MaxPool1d(kernel_size=2, stride=2),\n",
    "        )\n",
    "        self.features_l = nn.Sequential(\n",
    "            nn.Conv1d(ch, 64, 400, 50),\n",
    "            nn.BatchNorm1d(64),\n",
    "            nn.ReLU(inplace=True),\n",
    "            nn.MaxPool1d(kernel_size=4, stride=4),\n",
    "            nn.Dropout(),\n",
    "            nn.Conv1d(64, 128, 8),\n",
    "            nn.BatchNorm1d(128),\n",
    "            nn.Conv1d(128, 128, 8),\n",
    "            nn.BatchNorm1d(128),\n",
    "            nn.Conv1d(128, 128, 8),\n",
    "            nn.BatchNorm1d(128),\n",
    "            nn.ReLU(inplace=True),\n",
    "            nn.MaxPool1d(kernel_size=2, stride=2),\n",
    "        )\n",
    "        self.features_seq = nn.Sequential(\n",
    "            BiLSTM(96640, 512, 2),\n",
    "        )\n",
    "        self.res = nn.Linear(96640, 1024)\n",
    "        self.classifier = nn.Sequential(\n",
    "            nn.Dropout(),\n",
    "            nn.Linear(1024, 2),\n",
    "        )\n",
    "\n",
    "    def forward(self, x):\n",
    "        x_s = self.features_s(x)\n",
    "        x_l = self.features_l(x)\n",
    "        x_s = x_s.flatten(1,2)\n",
    "        x_l = x_l.flatten(1,2)\n",
    "        x = torch.cat((x_s, x_l),1) # [bs, 7296]\n",
    "        x_seq = x.unsqueeze(1)\n",
    "        x_blstm = self.features_seq(x_seq) # [bs, 1, 1024]\n",
    "        x_blstm = torch.squeeze(x_blstm, 1)\n",
    "        x_res = self.res(x)\n",
    "        x = torch.mul(x_res, x_blstm)\n",
    "        x = self.classifier(x)\n",
    "        return x"
   ]
  },
  {
   "cell_type": "code",
   "execution_count": 8,
   "id": "97481874",
   "metadata": {},
   "outputs": [],
   "source": [
    "# Reference: https://github.com/clcarwin/focal_loss_pytorch/blob/master/focalloss.py\n",
    "\n",
    "class FocalLoss(nn.Module):\n",
    "    def __init__(self, gamma=0.8, alpha=0.7, size_average=True):\n",
    "        super(FocalLoss, self).__init__()\n",
    "        self.gamma = gamma\n",
    "        self.alpha = alpha\n",
    "        if isinstance(alpha,(float,int,int)): self.alpha = torch.Tensor([alpha,1-alpha])\n",
    "        if isinstance(alpha,list): self.alpha = torch.Tensor(alpha)\n",
    "        self.size_average = size_average\n",
    "\n",
    "    def forward(self, input, target):\n",
    "        if input.dim()>2:\n",
    "            input = input.view(input.size(0),input.size(1),-1)  # N,C,H,W => N,C,H*W\n",
    "            input = input.transpose(1,2)    # N,C,H*W => N,H*W,C\n",
    "            input = input.contiguous().view(-1,input.size(2))   # N,H*W,C => N*H*W,C\n",
    "        target = target.view(-1,1)\n",
    "\n",
    "        logpt = F.log_softmax(input)\n",
    "        logpt = logpt.gather(1,target)\n",
    "        logpt = logpt.view(-1)\n",
    "        pt = Variable(logpt.data.exp())\n",
    "\n",
    "        if self.alpha is not None:\n",
    "            if self.alpha.type()!=input.data.type():\n",
    "                self.alpha = self.alpha.type_as(input.data)\n",
    "            at = self.alpha.gather(0,target.data.view(-1))\n",
    "            logpt = logpt * Variable(at)\n",
    "\n",
    "        loss = -1 * (1-pt)**self.gamma * logpt\n",
    "        if self.size_average: return loss.mean()\n",
    "        else: return loss.sum()"
   ]
  },
  {
   "cell_type": "code",
   "execution_count": 9,
   "id": "b19e3ccb-a4eb-49c1-8e1a-06cf94990015",
   "metadata": {},
   "outputs": [],
   "source": [
    "model = DeepSleepNet()\n",
    "model.to(device)\n",
    "\n",
    "# criterion = torch.nn.CrossEntropyLoss()\n",
    "criterion = FocalLoss()\n",
    "optimizer = torch.optim.Adam(params=model.parameters(), lr=1e-4, weight_decay=1e-4)\n",
    "scheduler = torch.optim.lr_scheduler.CosineAnnealingLR(optimizer, 100)"
   ]
  },
  {
   "cell_type": "code",
   "execution_count": null,
   "id": "c9767d3b-faaf-4ff3-b4d3-dbb46fed1987",
   "metadata": {},
   "outputs": [
    {
     "name": "stdout",
     "output_type": "stream",
     "text": [
      "Start Training\n",
      "------------------------------\n"
     ]
    },
    {
     "name": "stderr",
     "output_type": "stream",
     "text": [
      "  0%|          | 0/15 [00:00<?, ?it/s]/tmp/ipykernel_228506/3491591181.py:19: UserWarning: Implicit dimension choice for log_softmax has been deprecated. Change the call to include dim=X as an argument.\n",
      "  logpt = F.log_softmax(input)\n",
      "100%|██████████| 15/15 [00:34<00:00,  2.32s/it]\n",
      "100%|██████████| 2/2 [00:07<00:00,  3.73s/it]\n"
     ]
    },
    {
     "name": "stdout",
     "output_type": "stream",
     "text": [
      "Epoch=0, BatchID=14, Val_F1=0.6528, Best_Val_F1=0.6528\n",
      "              precision    recall  f1-score   support\n",
      "\n",
      "           0       0.41      1.00      0.58        14\n",
      "           1       1.00      0.57      0.72        46\n",
      "\n",
      "    accuracy                           0.67        60\n",
      "   macro avg       0.71      0.78      0.65        60\n",
      "weighted avg       0.86      0.67      0.69        60\n",
      "\n"
     ]
    },
    {
     "name": "stderr",
     "output_type": "stream",
     "text": [
      "  0%|          | 0/15 [00:00<?, ?it/s]/tmp/ipykernel_228506/3491591181.py:19: UserWarning: Implicit dimension choice for log_softmax has been deprecated. Change the call to include dim=X as an argument.\n",
      "  logpt = F.log_softmax(input)\n",
      "100%|██████████| 15/15 [00:24<00:00,  1.61s/it]\n",
      "100%|██████████| 2/2 [00:07<00:00,  3.78s/it]\n",
      "/miniconda/envs/vanila-maic2022/lib/python3.8/site-packages/sklearn/metrics/_classification.py:1334: UndefinedMetricWarning: Precision and F-score are ill-defined and being set to 0.0 in labels with no predicted samples. Use `zero_division` parameter to control this behavior.\n",
      "  _warn_prf(average, modifier, msg_start, len(result))\n",
      "/miniconda/envs/vanila-maic2022/lib/python3.8/site-packages/sklearn/metrics/_classification.py:1334: UndefinedMetricWarning: Precision and F-score are ill-defined and being set to 0.0 in labels with no predicted samples. Use `zero_division` parameter to control this behavior.\n",
      "  _warn_prf(average, modifier, msg_start, len(result))\n",
      "/miniconda/envs/vanila-maic2022/lib/python3.8/site-packages/sklearn/metrics/_classification.py:1334: UndefinedMetricWarning: Precision and F-score are ill-defined and being set to 0.0 in labels with no predicted samples. Use `zero_division` parameter to control this behavior.\n",
      "  _warn_prf(average, modifier, msg_start, len(result))\n"
     ]
    },
    {
     "name": "stdout",
     "output_type": "stream",
     "text": [
      "Epoch=1, BatchID=14, Val_F1=0.4340, Best_Val_F1=0.6528\n",
      "              precision    recall  f1-score   support\n",
      "\n",
      "           0       0.00      0.00      0.00        14\n",
      "           1       0.77      1.00      0.87        46\n",
      "\n",
      "    accuracy                           0.77        60\n",
      "   macro avg       0.38      0.50      0.43        60\n",
      "weighted avg       0.59      0.77      0.67        60\n",
      "\n"
     ]
    },
    {
     "name": "stderr",
     "output_type": "stream",
     "text": [
      "  0%|          | 0/15 [00:00<?, ?it/s]/tmp/ipykernel_228506/3491591181.py:19: UserWarning: Implicit dimension choice for log_softmax has been deprecated. Change the call to include dim=X as an argument.\n",
      "  logpt = F.log_softmax(input)\n",
      "100%|██████████| 15/15 [00:30<00:00,  2.02s/it]\n",
      "100%|██████████| 2/2 [00:09<00:00,  4.97s/it]\n"
     ]
    },
    {
     "name": "stdout",
     "output_type": "stream",
     "text": [
      "Epoch=2, BatchID=14, Val_F1=0.6447, Best_Val_F1=0.6528\n",
      "              precision    recall  f1-score   support\n",
      "\n",
      "           0       0.42      0.57      0.48        14\n",
      "           1       0.85      0.76      0.80        46\n",
      "\n",
      "    accuracy                           0.72        60\n",
      "   macro avg       0.64      0.67      0.64        60\n",
      "weighted avg       0.75      0.72      0.73        60\n",
      "\n"
     ]
    },
    {
     "name": "stderr",
     "output_type": "stream",
     "text": [
      "  0%|          | 0/15 [00:00<?, ?it/s]/tmp/ipykernel_228506/3491591181.py:19: UserWarning: Implicit dimension choice for log_softmax has been deprecated. Change the call to include dim=X as an argument.\n",
      "  logpt = F.log_softmax(input)\n",
      "100%|██████████| 15/15 [00:27<00:00,  1.81s/it]\n",
      "100%|██████████| 2/2 [00:11<00:00,  5.53s/it]\n"
     ]
    },
    {
     "name": "stdout",
     "output_type": "stream",
     "text": [
      "Epoch=3, BatchID=14, Val_F1=0.6391, Best_Val_F1=0.6528\n",
      "              precision    recall  f1-score   support\n",
      "\n",
      "           0       0.40      0.71      0.51        14\n",
      "           1       0.89      0.67      0.77        46\n",
      "\n",
      "    accuracy                           0.68        60\n",
      "   macro avg       0.64      0.69      0.64        60\n",
      "weighted avg       0.77      0.68      0.71        60\n",
      "\n"
     ]
    },
    {
     "name": "stderr",
     "output_type": "stream",
     "text": [
      "  0%|          | 0/15 [00:00<?, ?it/s]/tmp/ipykernel_228506/3491591181.py:19: UserWarning: Implicit dimension choice for log_softmax has been deprecated. Change the call to include dim=X as an argument.\n",
      "  logpt = F.log_softmax(input)\n",
      "100%|██████████| 15/15 [00:27<00:00,  1.82s/it]\n",
      "100%|██████████| 2/2 [00:08<00:00,  4.39s/it]\n"
     ]
    },
    {
     "name": "stdout",
     "output_type": "stream",
     "text": [
      "Epoch=4, BatchID=14, Val_F1=0.6563, Best_Val_F1=0.6563\n",
      "              precision    recall  f1-score   support\n",
      "\n",
      "           0       0.50      0.43      0.46        14\n",
      "           1       0.83      0.87      0.85        46\n",
      "\n",
      "    accuracy                           0.77        60\n",
      "   macro avg       0.67      0.65      0.66        60\n",
      "weighted avg       0.76      0.77      0.76        60\n",
      "\n"
     ]
    },
    {
     "name": "stderr",
     "output_type": "stream",
     "text": [
      "100%|██████████| 2/2 [00:08<00:00,  4.43s/it]\n"
     ]
    },
    {
     "name": "stdout",
     "output_type": "stream",
     "text": [
      "Epoch=7, BatchID=14, Val_F1=0.4667, Best_Val_F1=0.6563\n",
      "              precision    recall  f1-score   support\n",
      "\n",
      "           0       0.30      1.00      0.47        14\n",
      "           1       1.00      0.30      0.47        46\n",
      "\n",
      "    accuracy                           0.47        60\n",
      "   macro avg       0.65      0.65      0.47        60\n",
      "weighted avg       0.84      0.47      0.47        60\n",
      "\n"
     ]
    },
    {
     "name": "stderr",
     "output_type": "stream",
     "text": [
      "  0%|          | 0/15 [00:00<?, ?it/s]/tmp/ipykernel_228506/3491591181.py:19: UserWarning: Implicit dimension choice for log_softmax has been deprecated. Change the call to include dim=X as an argument.\n",
      "  logpt = F.log_softmax(input)\n",
      "100%|██████████| 15/15 [00:25<00:00,  1.73s/it]\n",
      "100%|██████████| 2/2 [00:05<00:00,  2.84s/it]\n"
     ]
    },
    {
     "name": "stdout",
     "output_type": "stream",
     "text": [
      "Epoch=8, BatchID=14, Val_F1=0.6248, Best_Val_F1=0.6563\n",
      "              precision    recall  f1-score   support\n",
      "\n",
      "           0       0.57      0.29      0.38        14\n",
      "           1       0.81      0.93      0.87        46\n",
      "\n",
      "    accuracy                           0.78        60\n",
      "   macro avg       0.69      0.61      0.62        60\n",
      "weighted avg       0.76      0.78      0.75        60\n",
      "\n"
     ]
    },
    {
     "name": "stderr",
     "output_type": "stream",
     "text": [
      "  0%|          | 0/15 [00:00<?, ?it/s]/tmp/ipykernel_228506/3491591181.py:19: UserWarning: Implicit dimension choice for log_softmax has been deprecated. Change the call to include dim=X as an argument.\n",
      "  logpt = F.log_softmax(input)\n",
      "100%|██████████| 15/15 [00:27<00:00,  1.86s/it]\n",
      "100%|██████████| 2/2 [00:08<00:00,  4.08s/it]\n"
     ]
    },
    {
     "name": "stdout",
     "output_type": "stream",
     "text": [
      "Epoch=9, BatchID=14, Val_F1=0.6590, Best_Val_F1=0.6590\n",
      "              precision    recall  f1-score   support\n",
      "\n",
      "           0       0.47      0.50      0.48        14\n",
      "           1       0.84      0.83      0.84        46\n",
      "\n",
      "    accuracy                           0.75        60\n",
      "   macro avg       0.66      0.66      0.66        60\n",
      "weighted avg       0.76      0.75      0.75        60\n",
      "\n"
     ]
    },
    {
     "name": "stderr",
     "output_type": "stream",
     "text": [
      "  0%|          | 0/15 [00:00<?, ?it/s]/tmp/ipykernel_228506/3491591181.py:19: UserWarning: Implicit dimension choice for log_softmax has been deprecated. Change the call to include dim=X as an argument.\n",
      "  logpt = F.log_softmax(input)\n",
      "100%|██████████| 15/15 [00:19<00:00,  1.32s/it]\n",
      "100%|██████████| 2/2 [00:05<00:00,  2.82s/it]\n"
     ]
    },
    {
     "name": "stdout",
     "output_type": "stream",
     "text": [
      "Epoch=10, BatchID=14, Val_F1=0.5048, Best_Val_F1=0.6590\n",
      "              precision    recall  f1-score   support\n",
      "\n",
      "           0       1.00      0.07      0.13        14\n",
      "           1       0.78      1.00      0.88        46\n",
      "\n",
      "    accuracy                           0.78        60\n",
      "   macro avg       0.89      0.54      0.50        60\n",
      "weighted avg       0.83      0.78      0.70        60\n",
      "\n"
     ]
    },
    {
     "name": "stderr",
     "output_type": "stream",
     "text": [
      "  0%|          | 0/15 [00:00<?, ?it/s]/tmp/ipykernel_228506/3491591181.py:19: UserWarning: Implicit dimension choice for log_softmax has been deprecated. Change the call to include dim=X as an argument.\n",
      "  logpt = F.log_softmax(input)\n",
      "100%|██████████| 15/15 [00:23<00:00,  1.55s/it]\n",
      "100%|██████████| 2/2 [00:06<00:00,  3.13s/it]\n"
     ]
    },
    {
     "name": "stdout",
     "output_type": "stream",
     "text": [
      "Epoch=11, BatchID=14, Val_F1=0.6475, Best_Val_F1=0.6590\n",
      "              precision    recall  f1-score   support\n",
      "\n",
      "           0       0.41      0.93      0.57        14\n",
      "           1       0.96      0.59      0.73        46\n",
      "\n",
      "    accuracy                           0.67        60\n",
      "   macro avg       0.69      0.76      0.65        60\n",
      "weighted avg       0.83      0.67      0.69        60\n",
      "\n"
     ]
    },
    {
     "name": "stderr",
     "output_type": "stream",
     "text": [
      "  0%|          | 0/15 [00:00<?, ?it/s]/tmp/ipykernel_228506/3491591181.py:19: UserWarning: Implicit dimension choice for log_softmax has been deprecated. Change the call to include dim=X as an argument.\n",
      "  logpt = F.log_softmax(input)\n",
      "100%|██████████| 15/15 [00:29<00:00,  1.94s/it]\n",
      "100%|██████████| 2/2 [00:10<00:00,  5.03s/it]\n"
     ]
    },
    {
     "name": "stdout",
     "output_type": "stream",
     "text": [
      "Epoch=12, BatchID=14, Val_F1=0.6865, Best_Val_F1=0.6865\n",
      "              precision    recall  f1-score   support\n",
      "\n",
      "           0       0.47      0.64      0.55        14\n",
      "           1       0.88      0.78      0.83        46\n",
      "\n",
      "    accuracy                           0.75        60\n",
      "   macro avg       0.68      0.71      0.69        60\n",
      "weighted avg       0.78      0.75      0.76        60\n",
      "\n"
     ]
    },
    {
     "name": "stderr",
     "output_type": "stream",
     "text": [
      "  0%|          | 0/15 [00:00<?, ?it/s]/tmp/ipykernel_228506/3491591181.py:19: UserWarning: Implicit dimension choice for log_softmax has been deprecated. Change the call to include dim=X as an argument.\n",
      "  logpt = F.log_softmax(input)\n",
      "100%|██████████| 15/15 [00:30<00:00,  2.05s/it]\n",
      "100%|██████████| 2/2 [00:09<00:00,  4.63s/it]\n"
     ]
    },
    {
     "name": "stdout",
     "output_type": "stream",
     "text": [
      "Epoch=13, BatchID=14, Val_F1=0.7304, Best_Val_F1=0.7304\n",
      "              precision    recall  f1-score   support\n",
      "\n",
      "           0       0.50      0.86      0.63        14\n",
      "           1       0.94      0.74      0.83        46\n",
      "\n",
      "    accuracy                           0.77        60\n",
      "   macro avg       0.72      0.80      0.73        60\n",
      "weighted avg       0.84      0.77      0.78        60\n",
      "\n"
     ]
    },
    {
     "name": "stderr",
     "output_type": "stream",
     "text": [
      "  0%|          | 0/15 [00:00<?, ?it/s]/tmp/ipykernel_228506/3491591181.py:19: UserWarning: Implicit dimension choice for log_softmax has been deprecated. Change the call to include dim=X as an argument.\n",
      "  logpt = F.log_softmax(input)\n",
      "100%|██████████| 15/15 [00:23<00:00,  1.55s/it]\n",
      "100%|██████████| 2/2 [00:07<00:00,  3.62s/it]\n"
     ]
    },
    {
     "name": "stdout",
     "output_type": "stream",
     "text": [
      "Epoch=14, BatchID=14, Val_F1=0.5966, Best_Val_F1=0.7304\n",
      "              precision    recall  f1-score   support\n",
      "\n",
      "           0       0.44      0.29      0.35        14\n",
      "           1       0.80      0.89      0.85        46\n",
      "\n",
      "    accuracy                           0.75        60\n",
      "   macro avg       0.62      0.59      0.60        60\n",
      "weighted avg       0.72      0.75      0.73        60\n",
      "\n"
     ]
    },
    {
     "name": "stderr",
     "output_type": "stream",
     "text": [
      "  0%|          | 0/15 [00:00<?, ?it/s]/tmp/ipykernel_228506/3491591181.py:19: UserWarning: Implicit dimension choice for log_softmax has been deprecated. Change the call to include dim=X as an argument.\n",
      "  logpt = F.log_softmax(input)\n",
      "100%|██████████| 15/15 [00:25<00:00,  1.71s/it]\n",
      "100%|██████████| 2/2 [00:05<00:00,  2.64s/it]\n"
     ]
    },
    {
     "name": "stdout",
     "output_type": "stream",
     "text": [
      "Epoch=15, BatchID=14, Val_F1=0.7948, Best_Val_F1=0.7948\n",
      "              precision    recall  f1-score   support\n",
      "\n",
      "           0       0.60      0.86      0.71        14\n",
      "           1       0.95      0.83      0.88        46\n",
      "\n",
      "    accuracy                           0.83        60\n",
      "   macro avg       0.77      0.84      0.79        60\n",
      "weighted avg       0.87      0.83      0.84        60\n",
      "\n"
     ]
    },
    {
     "name": "stderr",
     "output_type": "stream",
     "text": [
      "  0%|          | 0/15 [00:00<?, ?it/s]/tmp/ipykernel_228506/3491591181.py:19: UserWarning: Implicit dimension choice for log_softmax has been deprecated. Change the call to include dim=X as an argument.\n",
      "  logpt = F.log_softmax(input)\n",
      "100%|██████████| 15/15 [00:22<00:00,  1.49s/it]\n",
      "100%|██████████| 2/2 [00:09<00:00,  4.94s/it]\n"
     ]
    },
    {
     "name": "stdout",
     "output_type": "stream",
     "text": [
      "Epoch=16, BatchID=14, Val_F1=0.6770, Best_Val_F1=0.7948\n",
      "              precision    recall  f1-score   support\n",
      "\n",
      "           0       0.43      0.93      0.59        14\n",
      "           1       0.97      0.63      0.76        46\n",
      "\n",
      "    accuracy                           0.70        60\n",
      "   macro avg       0.70      0.78      0.68        60\n",
      "weighted avg       0.84      0.70      0.72        60\n",
      "\n"
     ]
    },
    {
     "name": "stderr",
     "output_type": "stream",
     "text": [
      "  0%|          | 0/15 [00:00<?, ?it/s]/tmp/ipykernel_228506/3491591181.py:19: UserWarning: Implicit dimension choice for log_softmax has been deprecated. Change the call to include dim=X as an argument.\n",
      "  logpt = F.log_softmax(input)\n",
      "100%|██████████| 15/15 [00:24<00:00,  1.66s/it]\n",
      "100%|██████████| 2/2 [00:08<00:00,  4.49s/it]\n"
     ]
    },
    {
     "name": "stdout",
     "output_type": "stream",
     "text": [
      "Epoch=17, BatchID=14, Val_F1=0.6231, Best_Val_F1=0.7948\n",
      "              precision    recall  f1-score   support\n",
      "\n",
      "           0       1.00      0.21      0.35        14\n",
      "           1       0.81      1.00      0.89        46\n",
      "\n",
      "    accuracy                           0.82        60\n",
      "   macro avg       0.90      0.61      0.62        60\n",
      "weighted avg       0.85      0.82      0.77        60\n",
      "\n"
     ]
    },
    {
     "name": "stderr",
     "output_type": "stream",
     "text": [
      "  0%|          | 0/15 [00:00<?, ?it/s]/tmp/ipykernel_228506/3491591181.py:19: UserWarning: Implicit dimension choice for log_softmax has been deprecated. Change the call to include dim=X as an argument.\n",
      "  logpt = F.log_softmax(input)\n",
      "100%|██████████| 15/15 [00:24<00:00,  1.64s/it]\n",
      "100%|██████████| 2/2 [00:06<00:00,  3.46s/it]\n"
     ]
    },
    {
     "name": "stdout",
     "output_type": "stream",
     "text": [
      "Epoch=18, BatchID=14, Val_F1=0.7283, Best_Val_F1=0.7948\n",
      "              precision    recall  f1-score   support\n",
      "\n",
      "           0       0.53      0.71      0.61        14\n",
      "           1       0.90      0.80      0.85        46\n",
      "\n",
      "    accuracy                           0.78        60\n",
      "   macro avg       0.71      0.76      0.73        60\n",
      "weighted avg       0.81      0.78      0.79        60\n",
      "\n"
     ]
    },
    {
     "name": "stderr",
     "output_type": "stream",
     "text": [
      "  0%|          | 0/15 [00:00<?, ?it/s]/tmp/ipykernel_228506/3491591181.py:19: UserWarning: Implicit dimension choice for log_softmax has been deprecated. Change the call to include dim=X as an argument.\n",
      "  logpt = F.log_softmax(input)\n",
      "100%|██████████| 15/15 [00:22<00:00,  1.48s/it]\n",
      "100%|██████████| 2/2 [00:09<00:00,  4.88s/it]\n"
     ]
    },
    {
     "name": "stdout",
     "output_type": "stream",
     "text": [
      "Epoch=19, BatchID=14, Val_F1=0.7304, Best_Val_F1=0.7948\n",
      "              precision    recall  f1-score   support\n",
      "\n",
      "           0       0.50      0.86      0.63        14\n",
      "           1       0.94      0.74      0.83        46\n",
      "\n",
      "    accuracy                           0.77        60\n",
      "   macro avg       0.72      0.80      0.73        60\n",
      "weighted avg       0.84      0.77      0.78        60\n",
      "\n"
     ]
    },
    {
     "name": "stderr",
     "output_type": "stream",
     "text": [
      "  0%|          | 0/15 [00:00<?, ?it/s]/tmp/ipykernel_228506/3491591181.py:19: UserWarning: Implicit dimension choice for log_softmax has been deprecated. Change the call to include dim=X as an argument.\n",
      "  logpt = F.log_softmax(input)\n",
      "100%|██████████| 15/15 [00:26<00:00,  1.74s/it]\n",
      "100%|██████████| 2/2 [00:09<00:00,  4.63s/it]\n"
     ]
    },
    {
     "name": "stdout",
     "output_type": "stream",
     "text": [
      "Epoch=20, BatchID=14, Val_F1=0.7069, Best_Val_F1=0.7948\n",
      "              precision    recall  f1-score   support\n",
      "\n",
      "           0       0.48      0.79      0.59        14\n",
      "           1       0.92      0.74      0.82        46\n",
      "\n",
      "    accuracy                           0.75        60\n",
      "   macro avg       0.70      0.76      0.71        60\n",
      "weighted avg       0.82      0.75      0.77        60\n",
      "\n"
     ]
    },
    {
     "name": "stderr",
     "output_type": "stream",
     "text": [
      "  0%|          | 0/15 [00:00<?, ?it/s]/tmp/ipykernel_228506/3491591181.py:19: UserWarning: Implicit dimension choice for log_softmax has been deprecated. Change the call to include dim=X as an argument.\n",
      "  logpt = F.log_softmax(input)\n",
      "100%|██████████| 15/15 [00:25<00:00,  1.73s/it]\n",
      "100%|██████████| 2/2 [00:04<00:00,  2.34s/it]\n"
     ]
    },
    {
     "name": "stdout",
     "output_type": "stream",
     "text": [
      "Epoch=21, BatchID=14, Val_F1=0.6622, Best_Val_F1=0.7948\n",
      "              precision    recall  f1-score   support\n",
      "\n",
      "           0       0.42      0.93      0.58        14\n",
      "           1       0.97      0.61      0.75        46\n",
      "\n",
      "    accuracy                           0.68        60\n",
      "   macro avg       0.69      0.77      0.66        60\n",
      "weighted avg       0.84      0.68      0.71        60\n",
      "\n"
     ]
    },
    {
     "name": "stderr",
     "output_type": "stream",
     "text": [
      "  0%|          | 0/15 [00:00<?, ?it/s]/tmp/ipykernel_228506/3491591181.py:19: UserWarning: Implicit dimension choice for log_softmax has been deprecated. Change the call to include dim=X as an argument.\n",
      "  logpt = F.log_softmax(input)\n",
      "100%|██████████| 15/15 [00:17<00:00,  1.20s/it]\n",
      "100%|██████████| 2/2 [00:07<00:00,  3.83s/it]\n"
     ]
    },
    {
     "name": "stdout",
     "output_type": "stream",
     "text": [
      "Epoch=22, BatchID=14, Val_F1=0.7778, Best_Val_F1=0.7948\n",
      "              precision    recall  f1-score   support\n",
      "\n",
      "           0       0.62      0.71      0.67        14\n",
      "           1       0.91      0.87      0.89        46\n",
      "\n",
      "    accuracy                           0.83        60\n",
      "   macro avg       0.77      0.79      0.78        60\n",
      "weighted avg       0.84      0.83      0.84        60\n",
      "\n"
     ]
    },
    {
     "name": "stderr",
     "output_type": "stream",
     "text": [
      "  0%|          | 0/15 [00:00<?, ?it/s]/tmp/ipykernel_228506/3491591181.py:19: UserWarning: Implicit dimension choice for log_softmax has been deprecated. Change the call to include dim=X as an argument.\n",
      "  logpt = F.log_softmax(input)\n",
      "100%|██████████| 15/15 [00:32<00:00,  2.14s/it]\n",
      "100%|██████████| 2/2 [00:07<00:00,  3.98s/it]\n"
     ]
    },
    {
     "name": "stdout",
     "output_type": "stream",
     "text": [
      "Epoch=23, BatchID=14, Val_F1=0.7054, Best_Val_F1=0.7948\n",
      "              precision    recall  f1-score   support\n",
      "\n",
      "           0       0.58      0.50      0.54        14\n",
      "           1       0.85      0.89      0.87        46\n",
      "\n",
      "    accuracy                           0.80        60\n",
      "   macro avg       0.72      0.70      0.71        60\n",
      "weighted avg       0.79      0.80      0.79        60\n",
      "\n"
     ]
    },
    {
     "name": "stderr",
     "output_type": "stream",
     "text": [
      "  0%|          | 0/15 [00:00<?, ?it/s]/tmp/ipykernel_228506/3491591181.py:19: UserWarning: Implicit dimension choice for log_softmax has been deprecated. Change the call to include dim=X as an argument.\n",
      "  logpt = F.log_softmax(input)\n",
      "100%|██████████| 15/15 [00:29<00:00,  1.98s/it]\n",
      "100%|██████████| 2/2 [00:07<00:00,  3.63s/it]\n"
     ]
    },
    {
     "name": "stdout",
     "output_type": "stream",
     "text": [
      "Epoch=24, BatchID=14, Val_F1=0.7151, Best_Val_F1=0.7948\n",
      "              precision    recall  f1-score   support\n",
      "\n",
      "           0       0.48      0.86      0.62        14\n",
      "           1       0.94      0.72      0.81        46\n",
      "\n",
      "    accuracy                           0.75        60\n",
      "   macro avg       0.71      0.79      0.72        60\n",
      "weighted avg       0.83      0.75      0.77        60\n",
      "\n"
     ]
    },
    {
     "name": "stderr",
     "output_type": "stream",
     "text": [
      "  0%|          | 0/15 [00:00<?, ?it/s]/tmp/ipykernel_228506/3491591181.py:19: UserWarning: Implicit dimension choice for log_softmax has been deprecated. Change the call to include dim=X as an argument.\n",
      "  logpt = F.log_softmax(input)\n",
      "100%|██████████| 15/15 [00:34<00:00,  2.32s/it]\n",
      "100%|██████████| 2/2 [00:08<00:00,  4.12s/it]\n"
     ]
    },
    {
     "name": "stdout",
     "output_type": "stream",
     "text": [
      "Epoch=25, BatchID=14, Val_F1=0.7460, Best_Val_F1=0.7948\n",
      "              precision    recall  f1-score   support\n",
      "\n",
      "           0       0.52      0.86      0.65        14\n",
      "           1       0.95      0.76      0.84        46\n",
      "\n",
      "    accuracy                           0.78        60\n",
      "   macro avg       0.73      0.81      0.75        60\n",
      "weighted avg       0.85      0.78      0.80        60\n",
      "\n"
     ]
    },
    {
     "name": "stderr",
     "output_type": "stream",
     "text": [
      "  0%|          | 0/15 [00:00<?, ?it/s]/tmp/ipykernel_228506/3491591181.py:19: UserWarning: Implicit dimension choice for log_softmax has been deprecated. Change the call to include dim=X as an argument.\n",
      "  logpt = F.log_softmax(input)\n",
      "100%|██████████| 15/15 [00:26<00:00,  1.75s/it]\n",
      "100%|██████████| 2/2 [00:08<00:00,  4.03s/it]\n"
     ]
    },
    {
     "name": "stdout",
     "output_type": "stream",
     "text": [
      "Epoch=26, BatchID=14, Val_F1=0.6400, Best_Val_F1=0.7948\n",
      "              precision    recall  f1-score   support\n",
      "\n",
      "           0       0.67      0.29      0.40        14\n",
      "           1       0.81      0.96      0.88        46\n",
      "\n",
      "    accuracy                           0.80        60\n",
      "   macro avg       0.74      0.62      0.64        60\n",
      "weighted avg       0.78      0.80      0.77        60\n",
      "\n"
     ]
    },
    {
     "name": "stderr",
     "output_type": "stream",
     "text": [
      "  0%|          | 0/15 [00:00<?, ?it/s]/tmp/ipykernel_228506/3491591181.py:19: UserWarning: Implicit dimension choice for log_softmax has been deprecated. Change the call to include dim=X as an argument.\n",
      "  logpt = F.log_softmax(input)\n",
      "100%|██████████| 15/15 [00:29<00:00,  2.00s/it]\n",
      "100%|██████████| 2/2 [00:10<00:00,  5.23s/it]\n"
     ]
    },
    {
     "name": "stdout",
     "output_type": "stream",
     "text": [
      "Epoch=27, BatchID=14, Val_F1=0.6739, Best_Val_F1=0.7948\n",
      "              precision    recall  f1-score   support\n",
      "\n",
      "           0       0.50      0.50      0.50        14\n",
      "           1       0.85      0.85      0.85        46\n",
      "\n",
      "    accuracy                           0.77        60\n",
      "   macro avg       0.67      0.67      0.67        60\n",
      "weighted avg       0.77      0.77      0.77        60\n",
      "\n"
     ]
    },
    {
     "name": "stderr",
     "output_type": "stream",
     "text": [
      "  0%|          | 0/15 [00:00<?, ?it/s]/tmp/ipykernel_228506/3491591181.py:19: UserWarning: Implicit dimension choice for log_softmax has been deprecated. Change the call to include dim=X as an argument.\n",
      "  logpt = F.log_softmax(input)\n",
      "100%|██████████| 15/15 [00:31<00:00,  2.07s/it]\n",
      "100%|██████████| 2/2 [00:07<00:00,  3.86s/it]\n"
     ]
    },
    {
     "name": "stdout",
     "output_type": "stream",
     "text": [
      "Epoch=28, BatchID=14, Val_F1=0.6273, Best_Val_F1=0.7948\n",
      "              precision    recall  f1-score   support\n",
      "\n",
      "           0       0.43      0.43      0.43        14\n",
      "           1       0.83      0.83      0.83        46\n",
      "\n",
      "    accuracy                           0.73        60\n",
      "   macro avg       0.63      0.63      0.63        60\n",
      "weighted avg       0.73      0.73      0.73        60\n",
      "\n"
     ]
    },
    {
     "name": "stderr",
     "output_type": "stream",
     "text": [
      "  0%|          | 0/15 [00:00<?, ?it/s]/tmp/ipykernel_228506/3491591181.py:19: UserWarning: Implicit dimension choice for log_softmax has been deprecated. Change the call to include dim=X as an argument.\n",
      "  logpt = F.log_softmax(input)\n",
      "100%|██████████| 15/15 [00:31<00:00,  2.09s/it]\n",
      "100%|██████████| 2/2 [00:08<00:00,  4.12s/it]\n"
     ]
    },
    {
     "name": "stdout",
     "output_type": "stream",
     "text": [
      "Epoch=29, BatchID=14, Val_F1=0.7378, Best_Val_F1=0.7948\n",
      "              precision    recall  f1-score   support\n",
      "\n",
      "           0       0.52      0.79      0.63        14\n",
      "           1       0.92      0.78      0.85        46\n",
      "\n",
      "    accuracy                           0.78        60\n",
      "   macro avg       0.72      0.78      0.74        60\n",
      "weighted avg       0.83      0.78      0.80        60\n",
      "\n"
     ]
    },
    {
     "name": "stderr",
     "output_type": "stream",
     "text": [
      "  0%|          | 0/15 [00:00<?, ?it/s]/tmp/ipykernel_228506/3491591181.py:19: UserWarning: Implicit dimension choice for log_softmax has been deprecated. Change the call to include dim=X as an argument.\n",
      "  logpt = F.log_softmax(input)\n",
      "100%|██████████| 15/15 [00:34<00:00,  2.28s/it]\n",
      "100%|██████████| 2/2 [00:08<00:00,  4.42s/it]\n"
     ]
    },
    {
     "name": "stdout",
     "output_type": "stream",
     "text": [
      "Epoch=30, BatchID=14, Val_F1=0.7608, Best_Val_F1=0.7948\n",
      "              precision    recall  f1-score   support\n",
      "\n",
      "           0       0.59      0.71      0.65        14\n",
      "           1       0.91      0.85      0.88        46\n",
      "\n",
      "    accuracy                           0.82        60\n",
      "   macro avg       0.75      0.78      0.76        60\n",
      "weighted avg       0.83      0.82      0.82        60\n",
      "\n"
     ]
    },
    {
     "name": "stderr",
     "output_type": "stream",
     "text": [
      "  0%|          | 0/15 [00:00<?, ?it/s]/tmp/ipykernel_228506/3491591181.py:19: UserWarning: Implicit dimension choice for log_softmax has been deprecated. Change the call to include dim=X as an argument.\n",
      "  logpt = F.log_softmax(input)\n",
      "100%|██████████| 15/15 [00:29<00:00,  1.95s/it]\n",
      "100%|██████████| 2/2 [00:08<00:00,  4.38s/it]\n"
     ]
    },
    {
     "name": "stdout",
     "output_type": "stream",
     "text": [
      "Epoch=31, BatchID=14, Val_F1=0.7173, Best_Val_F1=0.7948\n",
      "              precision    recall  f1-score   support\n",
      "\n",
      "           0       0.53      0.64      0.58        14\n",
      "           1       0.88      0.83      0.85        46\n",
      "\n",
      "    accuracy                           0.78        60\n",
      "   macro avg       0.71      0.73      0.72        60\n",
      "weighted avg       0.80      0.78      0.79        60\n",
      "\n"
     ]
    },
    {
     "name": "stderr",
     "output_type": "stream",
     "text": [
      "  0%|          | 0/15 [00:00<?, ?it/s]/tmp/ipykernel_228506/3491591181.py:19: UserWarning: Implicit dimension choice for log_softmax has been deprecated. Change the call to include dim=X as an argument.\n",
      "  logpt = F.log_softmax(input)\n",
      "100%|██████████| 15/15 [00:26<00:00,  1.79s/it]\n",
      "100%|██████████| 2/2 [00:05<00:00,  2.73s/it]\n"
     ]
    },
    {
     "name": "stdout",
     "output_type": "stream",
     "text": [
      "Epoch=32, BatchID=14, Val_F1=0.6563, Best_Val_F1=0.7948\n",
      "              precision    recall  f1-score   support\n",
      "\n",
      "           0       0.50      0.43      0.46        14\n",
      "           1       0.83      0.87      0.85        46\n",
      "\n",
      "    accuracy                           0.77        60\n",
      "   macro avg       0.67      0.65      0.66        60\n",
      "weighted avg       0.76      0.77      0.76        60\n",
      "\n"
     ]
    },
    {
     "name": "stderr",
     "output_type": "stream",
     "text": [
      "  0%|          | 0/15 [00:00<?, ?it/s]/tmp/ipykernel_228506/3491591181.py:19: UserWarning: Implicit dimension choice for log_softmax has been deprecated. Change the call to include dim=X as an argument.\n",
      "  logpt = F.log_softmax(input)\n",
      "100%|██████████| 15/15 [00:27<00:00,  1.85s/it]\n",
      "100%|██████████| 2/2 [00:08<00:00,  4.03s/it]\n"
     ]
    },
    {
     "name": "stdout",
     "output_type": "stream",
     "text": [
      "Epoch=33, BatchID=14, Val_F1=0.6919, Best_Val_F1=0.7948\n",
      "              precision    recall  f1-score   support\n",
      "\n",
      "           0       0.46      0.79      0.58        14\n",
      "           1       0.92      0.72      0.80        46\n",
      "\n",
      "    accuracy                           0.73        60\n",
      "   macro avg       0.69      0.75      0.69        60\n",
      "weighted avg       0.81      0.73      0.75        60\n",
      "\n"
     ]
    },
    {
     "name": "stderr",
     "output_type": "stream",
     "text": [
      "  0%|          | 0/15 [00:00<?, ?it/s]/tmp/ipykernel_228506/3491591181.py:19: UserWarning: Implicit dimension choice for log_softmax has been deprecated. Change the call to include dim=X as an argument.\n",
      "  logpt = F.log_softmax(input)\n",
      "100%|██████████| 15/15 [00:28<00:00,  1.92s/it]\n",
      "100%|██████████| 2/2 [00:07<00:00,  3.70s/it]\n"
     ]
    },
    {
     "name": "stdout",
     "output_type": "stream",
     "text": [
      "Epoch=34, BatchID=14, Val_F1=0.6770, Best_Val_F1=0.7948\n",
      "              precision    recall  f1-score   support\n",
      "\n",
      "           0       0.43      0.93      0.59        14\n",
      "           1       0.97      0.63      0.76        46\n",
      "\n",
      "    accuracy                           0.70        60\n",
      "   macro avg       0.70      0.78      0.68        60\n",
      "weighted avg       0.84      0.70      0.72        60\n",
      "\n"
     ]
    },
    {
     "name": "stderr",
     "output_type": "stream",
     "text": [
      "  0%|          | 0/15 [00:00<?, ?it/s]/tmp/ipykernel_228506/3491591181.py:19: UserWarning: Implicit dimension choice for log_softmax has been deprecated. Change the call to include dim=X as an argument.\n",
      "  logpt = F.log_softmax(input)\n",
      "100%|██████████| 15/15 [00:31<00:00,  2.07s/it]\n",
      "100%|██████████| 2/2 [00:09<00:00,  4.73s/it]\n"
     ]
    },
    {
     "name": "stdout",
     "output_type": "stream",
     "text": [
      "Epoch=35, BatchID=14, Val_F1=0.7221, Best_Val_F1=0.7948\n",
      "              precision    recall  f1-score   support\n",
      "\n",
      "           0       0.64      0.50      0.56        14\n",
      "           1       0.86      0.91      0.88        46\n",
      "\n",
      "    accuracy                           0.82        60\n",
      "   macro avg       0.75      0.71      0.72        60\n",
      "weighted avg       0.81      0.82      0.81        60\n",
      "\n"
     ]
    },
    {
     "name": "stderr",
     "output_type": "stream",
     "text": [
      "  0%|          | 0/15 [00:00<?, ?it/s]/tmp/ipykernel_228506/3491591181.py:19: UserWarning: Implicit dimension choice for log_softmax has been deprecated. Change the call to include dim=X as an argument.\n",
      "  logpt = F.log_softmax(input)\n",
      "100%|██████████| 15/15 [00:28<00:00,  1.90s/it]\n",
      "100%|██████████| 2/2 [00:08<00:00,  4.06s/it]\n"
     ]
    },
    {
     "name": "stdout",
     "output_type": "stream",
     "text": [
      "Epoch=36, BatchID=14, Val_F1=0.7671, Best_Val_F1=0.7948\n",
      "              precision    recall  f1-score   support\n",
      "\n",
      "           0       0.64      0.64      0.64        14\n",
      "           1       0.89      0.89      0.89        46\n",
      "\n",
      "    accuracy                           0.83        60\n",
      "   macro avg       0.77      0.77      0.77        60\n",
      "weighted avg       0.83      0.83      0.83        60\n",
      "\n"
     ]
    },
    {
     "name": "stderr",
     "output_type": "stream",
     "text": [
      "  0%|          | 0/15 [00:00<?, ?it/s]/tmp/ipykernel_228506/3491591181.py:19: UserWarning: Implicit dimension choice for log_softmax has been deprecated. Change the call to include dim=X as an argument.\n",
      "  logpt = F.log_softmax(input)\n",
      "100%|██████████| 15/15 [00:37<00:00,  2.52s/it]\n",
      "100%|██████████| 2/2 [00:04<00:00,  2.18s/it]\n"
     ]
    },
    {
     "name": "stdout",
     "output_type": "stream",
     "text": [
      "Epoch=37, BatchID=14, Val_F1=0.7173, Best_Val_F1=0.7948\n",
      "              precision    recall  f1-score   support\n",
      "\n",
      "           0       0.53      0.64      0.58        14\n",
      "           1       0.88      0.83      0.85        46\n",
      "\n",
      "    accuracy                           0.78        60\n",
      "   macro avg       0.71      0.73      0.72        60\n",
      "weighted avg       0.80      0.78      0.79        60\n",
      "\n"
     ]
    },
    {
     "name": "stderr",
     "output_type": "stream",
     "text": [
      "  0%|          | 0/15 [00:00<?, ?it/s]/tmp/ipykernel_228506/3491591181.py:19: UserWarning: Implicit dimension choice for log_softmax has been deprecated. Change the call to include dim=X as an argument.\n",
      "  logpt = F.log_softmax(input)\n",
      "100%|██████████| 15/15 [00:31<00:00,  2.10s/it]\n",
      "100%|██████████| 2/2 [00:06<00:00,  3.08s/it]\n"
     ]
    },
    {
     "name": "stdout",
     "output_type": "stream",
     "text": [
      "Epoch=38, BatchID=14, Val_F1=0.6231, Best_Val_F1=0.7948\n",
      "              precision    recall  f1-score   support\n",
      "\n",
      "           0       1.00      0.21      0.35        14\n",
      "           1       0.81      1.00      0.89        46\n",
      "\n",
      "    accuracy                           0.82        60\n",
      "   macro avg       0.90      0.61      0.62        60\n",
      "weighted avg       0.85      0.82      0.77        60\n",
      "\n"
     ]
    },
    {
     "name": "stderr",
     "output_type": "stream",
     "text": [
      "  0%|          | 0/15 [00:00<?, ?it/s]/tmp/ipykernel_228506/3491591181.py:19: UserWarning: Implicit dimension choice for log_softmax has been deprecated. Change the call to include dim=X as an argument.\n",
      "  logpt = F.log_softmax(input)\n",
      "100%|██████████| 15/15 [00:35<00:00,  2.38s/it]\n",
      "100%|██████████| 2/2 [00:03<00:00,  1.98s/it]\n"
     ]
    },
    {
     "name": "stdout",
     "output_type": "stream",
     "text": [
      "Epoch=39, BatchID=14, Val_F1=0.6660, Best_Val_F1=0.7948\n",
      "              precision    recall  f1-score   support\n",
      "\n",
      "           0       0.62      0.36      0.45        14\n",
      "           1       0.83      0.93      0.88        46\n",
      "\n",
      "    accuracy                           0.80        60\n",
      "   macro avg       0.73      0.65      0.67        60\n",
      "weighted avg       0.78      0.80      0.78        60\n",
      "\n"
     ]
    },
    {
     "name": "stderr",
     "output_type": "stream",
     "text": [
      "  0%|          | 0/15 [00:00<?, ?it/s]/tmp/ipykernel_228506/3491591181.py:19: UserWarning: Implicit dimension choice for log_softmax has been deprecated. Change the call to include dim=X as an argument.\n",
      "  logpt = F.log_softmax(input)\n",
      "100%|██████████| 15/15 [00:27<00:00,  1.84s/it]\n",
      "100%|██████████| 2/2 [00:08<00:00,  4.28s/it]\n"
     ]
    },
    {
     "name": "stdout",
     "output_type": "stream",
     "text": [
      "Epoch=40, BatchID=14, Val_F1=0.6033, Best_Val_F1=0.7948\n",
      "              precision    recall  f1-score   support\n",
      "\n",
      "           0       0.37      0.93      0.53        14\n",
      "           1       0.96      0.52      0.68        46\n",
      "\n",
      "    accuracy                           0.62        60\n",
      "   macro avg       0.67      0.73      0.60        60\n",
      "weighted avg       0.82      0.62      0.64        60\n",
      "\n"
     ]
    },
    {
     "name": "stderr",
     "output_type": "stream",
     "text": [
      "  0%|          | 0/15 [00:00<?, ?it/s]/tmp/ipykernel_228506/3491591181.py:19: UserWarning: Implicit dimension choice for log_softmax has been deprecated. Change the call to include dim=X as an argument.\n",
      "  logpt = F.log_softmax(input)\n",
      "100%|██████████| 15/15 [00:37<00:00,  2.26s/it]"
     ]
    }
   ],
   "source": [
    "# training\n",
    "print('Start Training')\n",
    "print('-'*30)\n",
    "\n",
    "best_val_f1 = 0\n",
    "# early_stop_cnt = 0\n",
    "best_pred = []\n",
    "for epoch in range(100):\n",
    "    for idx, data in enumerate(tqdm(train_loader)):\n",
    "        train_data, train_labels = data\n",
    "        train_data, train_labels  = train_data.to(device).float(), train_labels.to(device)\n",
    "        y_pred = model(train_data)\n",
    "#         y_pred = torch.sigmoid(y_pred)\n",
    "        loss = criterion(y_pred, train_labels)\n",
    "        optimizer.zero_grad()\n",
    "        loss.backward()\n",
    "        optimizer.step()\n",
    "        \n",
    "    # validation  \n",
    "    model.eval()\n",
    "    with torch.no_grad():    \n",
    "        test_pred = []\n",
    "        test_true = [] \n",
    "        for jdx, data in enumerate(tqdm(valid_loader)):\n",
    "            test_data, test_labels = data\n",
    "            test_data = test_data.to(device).float()\n",
    "            test_labels = test_labels.to(device)\n",
    "            y_pred = model(test_data)\n",
    "            y_pred = torch.argmax(torch.softmax(y_pred, dim=1), dim=1)\n",
    "            test_pred.append(y_pred.detach().cpu().numpy())\n",
    "            test_true.append(test_labels.detach().cpu().numpy())\n",
    "\n",
    "        test_true = np.concatenate(test_true)\n",
    "        test_pred = np.concatenate(test_pred)\n",
    "        val_f1 = f1_score(test_true, test_pred, average='macro')\n",
    "        \n",
    "        model.train()\n",
    "        if best_val_f1 < val_f1:\n",
    "            best_val_f1 = val_f1\n",
    "#             early_stop_cnt = 0\n",
    "            best_pred = test_pred\n",
    "            torch.save(model.state_dict(), os.path.join(save_path, save_name))\n",
    "#         else:\n",
    "#             early_stop_cnt += 1\n",
    "#             if early_stop_cnt == 5:\n",
    "#                 print('Epoch=%s, BatchID=%s, Val_F1=%.4f, Best_Val_F1=%.4f'%(epoch, idx, val_f1, best_val_f1))\n",
    "#                 sys.exit()\n",
    "\n",
    "        print('Epoch=%s, BatchID=%s, Val_F1=%.4f, Best_Val_F1=%.4f'%(epoch, idx, val_f1, best_val_f1))\n",
    "        print(classification_report(test_true, test_pred))\n",
    "        \n",
    "    scheduler.step()"
   ]
  },
  {
   "cell_type": "code",
   "execution_count": null,
   "id": "85a2ed31-ceb6-46c7-9b7e-a91667e1885f",
   "metadata": {},
   "outputs": [],
   "source": [
    "test_dataset = EDFDataLoader('test')\n",
    "test_loader = DataLoader(dataset=test_dataset, shuffle=False, batch_size=16)\n",
    "\n",
    "model = DeepSleepNet()\n",
    "model.to(device)\n",
    "model.load_state_dict(torch.load(os.path.join(save_path, save_name)))"
   ]
  },
  {
   "cell_type": "code",
   "execution_count": null,
   "id": "0f47a43c-eb3a-4e1a-881d-c1350dbc0867",
   "metadata": {},
   "outputs": [],
   "source": [
    "# testing\n",
    "print('Start Testing')\n",
    "print('-'*30)\n",
    "\n",
    "model.eval()\n",
    "with torch.no_grad():    \n",
    "    test_pred = []\n",
    "    data_path_lst = []\n",
    "    for jdx, (test_data, data_path) in enumerate(test_loader):\n",
    "        test_data = test_data.to(device).float()\n",
    "        y_pred = model(test_data)\n",
    "        y_pred = torch.argmax(torch.softmax(y_pred, dim=1), dim=1)\n",
    "        test_pred.append(y_pred.detach().cpu().numpy())\n",
    "        data_path_lst.append(data_path)\n",
    "\n",
    "    test_pred = np.concatenate(test_pred)\n",
    "    data_path_lst = np.concatenate(data_path_lst)\n",
    "    \n",
    "print('Done')"
   ]
  },
  {
   "cell_type": "code",
   "execution_count": null,
   "id": "7f45c26e-ce72-4c20-bd9a-960c0f651b31",
   "metadata": {},
   "outputs": [],
   "source": [
    "pred_info = {}\n",
    "\n",
    "for pred, img_path in zip(test_pred, data_path_lst):\n",
    "    file_name = img_path.split('/')[-1].replace('.edf', '')\n",
    "    if pred == 1:\n",
    "        pred_info[file_name] = 'OSA'\n",
    "    else:\n",
    "        pred_info[file_name] = 'Normal'\n",
    "    \n",
    "\n",
    "sort_pred = dict(sorted(pred_info.items()))\n",
    "print(sort_pred.items())\n",
    "\n",
    "submission = pd.DataFrame.from_dict([sort_pred]).T\n",
    "\n",
    "submission.to_csv(os.path.join(save_path, csv_name), index=True, header=False)\n",
    "submission.head()"
   ]
  },
  {
   "cell_type": "code",
   "execution_count": null,
   "id": "1cb41fb2",
   "metadata": {},
   "outputs": [],
   "source": []
  }
 ],
 "metadata": {
  "kernelspec": {
   "display_name": "Python [conda env:vanila-maic2022]",
   "language": "python",
   "name": "conda-env-vanila-maic2022-py"
  },
  "language_info": {
   "codemirror_mode": {
    "name": "ipython",
    "version": 3
   },
   "file_extension": ".py",
   "mimetype": "text/x-python",
   "name": "python",
   "nbconvert_exporter": "python",
   "pygments_lexer": "ipython3",
   "version": "3.8.10"
  }
 },
 "nbformat": 4,
 "nbformat_minor": 5
}
