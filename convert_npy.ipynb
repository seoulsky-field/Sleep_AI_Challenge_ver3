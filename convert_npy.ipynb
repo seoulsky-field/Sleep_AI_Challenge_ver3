{
 "cells": [
  {
   "cell_type": "code",
   "execution_count": 1,
   "id": "efde160a",
   "metadata": {},
   "outputs": [],
   "source": [
    "import os\n",
    "from glob import glob\n",
    "import numpy as np\n",
    "from tqdm import tqdm\n",
    "import random\n",
    "import pandas as pd\n",
    "\n",
    "#torch\n",
    "import torch\n",
    "import torch.nn as nn\n",
    "from torch.nn.parameter import Parameter\n",
    "from torch.utils.data import Dataset,DataLoader\n",
    "\n",
    "#mne\n",
    "from mne import Epochs, pick_types, find_events\n",
    "from mne.io import concatenate_raws, read_raw_edf\n",
    "\n",
    "#signal preprocess\n",
    "import scipy.signal as ssig    \n",
    "\n",
    "from sklearn.metrics import f1_score\n",
    "from sklearn.model_selection import train_test_split\n",
    "\n",
    "device = torch.device(\"cuda\" if torch.cuda.is_available() else \"cpu\")\n",
    "seed = 42"
   ]
  },
  {
   "cell_type": "code",
   "execution_count": 2,
   "id": "c380dbfb",
   "metadata": {},
   "outputs": [],
   "source": [
    "# seed 고정 함수 및 seed 고정\n",
    "def seed_everything(seed: int = 42):\n",
    "    random.seed(seed)\n",
    "    np.random.seed(seed)\n",
    "    os.environ[\"PYTHONHASHSEED\"] = str(seed)\n",
    "    torch.manual_seed(seed)\n",
    "    torch.cuda.manual_seed(seed)\n",
    "    torch.backends.cudnn.deterministic = True\n",
    "    torch.backends.cudnn.benchmark = True\n",
    "\n",
    "seed_everything(seed)"
   ]
  },
  {
   "cell_type": "code",
   "execution_count": 3,
   "id": "79409048",
   "metadata": {},
   "outputs": [],
   "source": [
    "train_path = '/home/maic-player/dataset/1_Train+Val'\n",
    "test_path = '/home/maic-player/dataset/2_Test'\n",
    "save_path = '/home/maic-player/FINAL_SUBMISSION/npy_60000'"
   ]
  },
  {
   "cell_type": "code",
   "execution_count": 4,
   "id": "dcbec075",
   "metadata": {},
   "outputs": [],
   "source": [
    "dataset_path_list = sorted(glob(os.path.join(train_path, \"*.edf\")))\n",
    "ground_truth = []\n",
    "\n",
    "for dataset_path in dataset_path_list:\n",
    "    if 'Normal' in dataset_path:\n",
    "        ground_truth.append(0)\n",
    "    else:\n",
    "        ground_truth.append(1)\n",
    "\n",
    "train_path_list, valid_path_list, train_label, valid_label = train_test_split(dataset_path_list, ground_truth, test_size=0.2, shuffle=True, stratify=ground_truth, random_state=seed)"
   ]
  },
  {
   "cell_type": "code",
   "execution_count": 5,
   "id": "ac6516bf",
   "metadata": {},
   "outputs": [],
   "source": [
    "#edf to numpy\n",
    "def edf_to_npy(path, resample_rate):\n",
    "    raw = read_raw_edf(path, preload=True, stim_channel=False, verbose=False)\n",
    "    data_np = raw.get_data()\n",
    "    data_pad = []\n",
    "    \n",
    "    for act_data in data_np:\n",
    "        data_pad.append(ssig.resample(act_data, resample_rate))\n",
    "    \n",
    "    data_arr = np.array(data_pad).astype(np.float32)\n",
    "\n",
    "    return data_arr"
   ]
  },
  {
   "cell_type": "code",
   "execution_count": null,
   "id": "b4b51bed",
   "metadata": {},
   "outputs": [],
   "source": [
    "npy_save_path = os.path.join(save_path, 'train')\n",
    "for train_path in tqdm(train_path_list):\n",
    "    data_np = edf_to_npy(train_path, 60000)\n",
    "    file_name = train_path.split('/')[-1].replace('.edf', '')\n",
    "    np.save(os.path.join(npy_save_path, file_name + '.npy'), data_np)\n",
    "\n",
    "npy_save_path = os.path.join(save_path, 'valid')\n",
    "for valid_path in tqdm(valid_path_list):\n",
    "    data_np = edf_to_npy(valid_path, 60000)\n",
    "    file_name = valid_path.split('/')[-1].replace('.edf', '')\n",
    "    np.save(os.path.join(npy_save_path, file_name + '.npy'), data_np)\n",
    "    "
   ]
  },
  {
   "cell_type": "code",
   "execution_count": 8,
   "id": "1c60848f",
   "metadata": {},
   "outputs": [
    {
     "name": "stderr",
     "output_type": "stream",
     "text": [
      "100%|██████████| 102/102 [11:58<00:00,  7.05s/it]\n"
     ]
    }
   ],
   "source": [
    "npy_save_path = os.path.join(save_path, 'test')\n",
    "for test_file in tqdm(glob(os.path.join(test_path, '*.edf'))):\n",
    "    data_np = edf_to_npy(test_file, 60000)\n",
    "    file_name = test_file.split('/')[-1].replace('.edf', '')\n",
    "    np.save(os.path.join(npy_save_path, file_name + '.npy'), data_np)"
   ]
  }
 ],
 "metadata": {
  "kernelspec": {
   "display_name": "Python [conda env:vanila-maic2022]",
   "language": "python",
   "name": "conda-env-vanila-maic2022-py"
  },
  "language_info": {
   "codemirror_mode": {
    "name": "ipython",
    "version": 3
   },
   "file_extension": ".py",
   "mimetype": "text/x-python",
   "name": "python",
   "nbconvert_exporter": "python",
   "pygments_lexer": "ipython3",
   "version": "3.8.10"
  }
 },
 "nbformat": 4,
 "nbformat_minor": 5
}
